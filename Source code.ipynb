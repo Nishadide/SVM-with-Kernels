{
  "nbformat": 4,
  "nbformat_minor": 0,
  "metadata": {
    "colab": {
      "name": "Sol2ML.ipynb",
      "provenance": []
    },
    "kernelspec": {
      "display_name": "Python 3",
      "language": "python",
      "name": "python3"
    },
    "language_info": {
      "codemirror_mode": {
        "name": "ipython",
        "version": 3
      },
      "file_extension": ".py",
      "mimetype": "text/x-python",
      "name": "python",
      "nbconvert_exporter": "python",
      "pygments_lexer": "ipython3",
      "version": "3.8.5"
    }
  },
  "cells": [
    {
      "cell_type": "markdown",
      "metadata": {
        "id": "RLXMXtFWNLjP"
      },
      "source": [
        "# Creating the Dataframe\n",
        "Dataframes are created by using read_csv method which is provided by panda library. A dataframe is a two dimensional data structure which simply contains rows and columns. The given weather dataset created in variable which is type of dataframe."
      ]
    },
    {
      "cell_type": "code",
      "metadata": {
        "id": "9FjG-2-8SCiZ"
      },
      "source": [
        "# import python libraries\n",
        "import pandas as pd\n",
        "import numpy as np\n",
        "import matplotlib.pyplot as plt\n",
        "import scipy.stats as stats\n",
        "import seaborn as sns\n",
        "from sklearn.metrics import confusion_matrix, accuracy_score, mean_squared_error, mean_absolute_error\n",
        "from sklearn.neural_network import MLPClassifier\n",
        "from sklearn.preprocessing import FunctionTransformer, OneHotEncoder, StandardScaler\n",
        "from sklearn.model_selection import train_test_split\n",
        "from sklearn.decomposition import PCA\n",
        "from tensorflow.keras import Sequential\n",
        "from tensorflow.keras.layers import Dense\n",
        "from keras.optimizers import SGD"
      ],
      "execution_count": 1,
      "outputs": []
    },
    {
      "cell_type": "code",
      "metadata": {
        "colab": {
          "base_uri": "https://localhost:8080/"
        },
        "id": "wIrHr6lPSbQR",
        "outputId": "25c1133a-6bbc-4f2d-abde-c610f1a7688a"
      },
      "source": [
        "from google.colab import drive\n",
        "drive.mount(\"/content/gdrive\")"
      ],
      "execution_count": 2,
      "outputs": [
        {
          "output_type": "stream",
          "text": [
            "Mounted at /content/gdrive\n"
          ],
          "name": "stdout"
        }
      ]
    },
    {
      "cell_type": "markdown",
      "metadata": {
        "id": "pYUpKVgFqRDc"
      },
      "source": [
        "**Read the dataset** "
      ]
    },
    {
      "cell_type": "code",
      "metadata": {
        "colab": {
          "base_uri": "https://localhost:8080/",
          "height": 376
        },
        "id": "USipvMQ9SCia",
        "outputId": "c95d756a-1ad5-487a-de83-cd8a73de03b9"
      },
      "source": [
        "# load the dataset and show first 10 records\n",
        "df_original = pd.read_csv('/content/gdrive/My Drive/data/bank-additional-full.csv',sep=';')\n",
        "df_original.head(10)"
      ],
      "execution_count": 3,
      "outputs": [
        {
          "output_type": "execute_result",
          "data": {
            "text/html": [
              "<div>\n",
              "<style scoped>\n",
              "    .dataframe tbody tr th:only-of-type {\n",
              "        vertical-align: middle;\n",
              "    }\n",
              "\n",
              "    .dataframe tbody tr th {\n",
              "        vertical-align: top;\n",
              "    }\n",
              "\n",
              "    .dataframe thead th {\n",
              "        text-align: right;\n",
              "    }\n",
              "</style>\n",
              "<table border=\"1\" class=\"dataframe\">\n",
              "  <thead>\n",
              "    <tr style=\"text-align: right;\">\n",
              "      <th></th>\n",
              "      <th>age</th>\n",
              "      <th>job</th>\n",
              "      <th>marital</th>\n",
              "      <th>education</th>\n",
              "      <th>default</th>\n",
              "      <th>housing</th>\n",
              "      <th>loan</th>\n",
              "      <th>contact</th>\n",
              "      <th>month</th>\n",
              "      <th>day_of_week</th>\n",
              "      <th>duration</th>\n",
              "      <th>campaign</th>\n",
              "      <th>pdays</th>\n",
              "      <th>previous</th>\n",
              "      <th>poutcome</th>\n",
              "      <th>emp.var.rate</th>\n",
              "      <th>cons.price.idx</th>\n",
              "      <th>cons.conf.idx</th>\n",
              "      <th>euribor3m</th>\n",
              "      <th>nr.employed</th>\n",
              "      <th>y</th>\n",
              "    </tr>\n",
              "  </thead>\n",
              "  <tbody>\n",
              "    <tr>\n",
              "      <th>0</th>\n",
              "      <td>56</td>\n",
              "      <td>housemaid</td>\n",
              "      <td>married</td>\n",
              "      <td>basic.4y</td>\n",
              "      <td>no</td>\n",
              "      <td>no</td>\n",
              "      <td>no</td>\n",
              "      <td>telephone</td>\n",
              "      <td>may</td>\n",
              "      <td>mon</td>\n",
              "      <td>261</td>\n",
              "      <td>1</td>\n",
              "      <td>999</td>\n",
              "      <td>0</td>\n",
              "      <td>nonexistent</td>\n",
              "      <td>1.1</td>\n",
              "      <td>93.994</td>\n",
              "      <td>-36.4</td>\n",
              "      <td>4.857</td>\n",
              "      <td>5191.0</td>\n",
              "      <td>no</td>\n",
              "    </tr>\n",
              "    <tr>\n",
              "      <th>1</th>\n",
              "      <td>57</td>\n",
              "      <td>services</td>\n",
              "      <td>married</td>\n",
              "      <td>high.school</td>\n",
              "      <td>unknown</td>\n",
              "      <td>no</td>\n",
              "      <td>no</td>\n",
              "      <td>telephone</td>\n",
              "      <td>may</td>\n",
              "      <td>mon</td>\n",
              "      <td>149</td>\n",
              "      <td>1</td>\n",
              "      <td>999</td>\n",
              "      <td>0</td>\n",
              "      <td>nonexistent</td>\n",
              "      <td>1.1</td>\n",
              "      <td>93.994</td>\n",
              "      <td>-36.4</td>\n",
              "      <td>4.857</td>\n",
              "      <td>5191.0</td>\n",
              "      <td>no</td>\n",
              "    </tr>\n",
              "    <tr>\n",
              "      <th>2</th>\n",
              "      <td>37</td>\n",
              "      <td>services</td>\n",
              "      <td>married</td>\n",
              "      <td>high.school</td>\n",
              "      <td>no</td>\n",
              "      <td>yes</td>\n",
              "      <td>no</td>\n",
              "      <td>telephone</td>\n",
              "      <td>may</td>\n",
              "      <td>mon</td>\n",
              "      <td>226</td>\n",
              "      <td>1</td>\n",
              "      <td>999</td>\n",
              "      <td>0</td>\n",
              "      <td>nonexistent</td>\n",
              "      <td>1.1</td>\n",
              "      <td>93.994</td>\n",
              "      <td>-36.4</td>\n",
              "      <td>4.857</td>\n",
              "      <td>5191.0</td>\n",
              "      <td>no</td>\n",
              "    </tr>\n",
              "    <tr>\n",
              "      <th>3</th>\n",
              "      <td>40</td>\n",
              "      <td>admin.</td>\n",
              "      <td>married</td>\n",
              "      <td>basic.6y</td>\n",
              "      <td>no</td>\n",
              "      <td>no</td>\n",
              "      <td>no</td>\n",
              "      <td>telephone</td>\n",
              "      <td>may</td>\n",
              "      <td>mon</td>\n",
              "      <td>151</td>\n",
              "      <td>1</td>\n",
              "      <td>999</td>\n",
              "      <td>0</td>\n",
              "      <td>nonexistent</td>\n",
              "      <td>1.1</td>\n",
              "      <td>93.994</td>\n",
              "      <td>-36.4</td>\n",
              "      <td>4.857</td>\n",
              "      <td>5191.0</td>\n",
              "      <td>no</td>\n",
              "    </tr>\n",
              "    <tr>\n",
              "      <th>4</th>\n",
              "      <td>56</td>\n",
              "      <td>services</td>\n",
              "      <td>married</td>\n",
              "      <td>high.school</td>\n",
              "      <td>no</td>\n",
              "      <td>no</td>\n",
              "      <td>yes</td>\n",
              "      <td>telephone</td>\n",
              "      <td>may</td>\n",
              "      <td>mon</td>\n",
              "      <td>307</td>\n",
              "      <td>1</td>\n",
              "      <td>999</td>\n",
              "      <td>0</td>\n",
              "      <td>nonexistent</td>\n",
              "      <td>1.1</td>\n",
              "      <td>93.994</td>\n",
              "      <td>-36.4</td>\n",
              "      <td>4.857</td>\n",
              "      <td>5191.0</td>\n",
              "      <td>no</td>\n",
              "    </tr>\n",
              "    <tr>\n",
              "      <th>5</th>\n",
              "      <td>45</td>\n",
              "      <td>services</td>\n",
              "      <td>married</td>\n",
              "      <td>basic.9y</td>\n",
              "      <td>unknown</td>\n",
              "      <td>no</td>\n",
              "      <td>no</td>\n",
              "      <td>telephone</td>\n",
              "      <td>may</td>\n",
              "      <td>mon</td>\n",
              "      <td>198</td>\n",
              "      <td>1</td>\n",
              "      <td>999</td>\n",
              "      <td>0</td>\n",
              "      <td>nonexistent</td>\n",
              "      <td>1.1</td>\n",
              "      <td>93.994</td>\n",
              "      <td>-36.4</td>\n",
              "      <td>4.857</td>\n",
              "      <td>5191.0</td>\n",
              "      <td>no</td>\n",
              "    </tr>\n",
              "    <tr>\n",
              "      <th>6</th>\n",
              "      <td>59</td>\n",
              "      <td>admin.</td>\n",
              "      <td>married</td>\n",
              "      <td>professional.course</td>\n",
              "      <td>no</td>\n",
              "      <td>no</td>\n",
              "      <td>no</td>\n",
              "      <td>telephone</td>\n",
              "      <td>may</td>\n",
              "      <td>mon</td>\n",
              "      <td>139</td>\n",
              "      <td>1</td>\n",
              "      <td>999</td>\n",
              "      <td>0</td>\n",
              "      <td>nonexistent</td>\n",
              "      <td>1.1</td>\n",
              "      <td>93.994</td>\n",
              "      <td>-36.4</td>\n",
              "      <td>4.857</td>\n",
              "      <td>5191.0</td>\n",
              "      <td>no</td>\n",
              "    </tr>\n",
              "    <tr>\n",
              "      <th>7</th>\n",
              "      <td>41</td>\n",
              "      <td>blue-collar</td>\n",
              "      <td>married</td>\n",
              "      <td>unknown</td>\n",
              "      <td>unknown</td>\n",
              "      <td>no</td>\n",
              "      <td>no</td>\n",
              "      <td>telephone</td>\n",
              "      <td>may</td>\n",
              "      <td>mon</td>\n",
              "      <td>217</td>\n",
              "      <td>1</td>\n",
              "      <td>999</td>\n",
              "      <td>0</td>\n",
              "      <td>nonexistent</td>\n",
              "      <td>1.1</td>\n",
              "      <td>93.994</td>\n",
              "      <td>-36.4</td>\n",
              "      <td>4.857</td>\n",
              "      <td>5191.0</td>\n",
              "      <td>no</td>\n",
              "    </tr>\n",
              "    <tr>\n",
              "      <th>8</th>\n",
              "      <td>24</td>\n",
              "      <td>technician</td>\n",
              "      <td>single</td>\n",
              "      <td>professional.course</td>\n",
              "      <td>no</td>\n",
              "      <td>yes</td>\n",
              "      <td>no</td>\n",
              "      <td>telephone</td>\n",
              "      <td>may</td>\n",
              "      <td>mon</td>\n",
              "      <td>380</td>\n",
              "      <td>1</td>\n",
              "      <td>999</td>\n",
              "      <td>0</td>\n",
              "      <td>nonexistent</td>\n",
              "      <td>1.1</td>\n",
              "      <td>93.994</td>\n",
              "      <td>-36.4</td>\n",
              "      <td>4.857</td>\n",
              "      <td>5191.0</td>\n",
              "      <td>no</td>\n",
              "    </tr>\n",
              "    <tr>\n",
              "      <th>9</th>\n",
              "      <td>25</td>\n",
              "      <td>services</td>\n",
              "      <td>single</td>\n",
              "      <td>high.school</td>\n",
              "      <td>no</td>\n",
              "      <td>yes</td>\n",
              "      <td>no</td>\n",
              "      <td>telephone</td>\n",
              "      <td>may</td>\n",
              "      <td>mon</td>\n",
              "      <td>50</td>\n",
              "      <td>1</td>\n",
              "      <td>999</td>\n",
              "      <td>0</td>\n",
              "      <td>nonexistent</td>\n",
              "      <td>1.1</td>\n",
              "      <td>93.994</td>\n",
              "      <td>-36.4</td>\n",
              "      <td>4.857</td>\n",
              "      <td>5191.0</td>\n",
              "      <td>no</td>\n",
              "    </tr>\n",
              "  </tbody>\n",
              "</table>\n",
              "</div>"
            ],
            "text/plain": [
              "   age          job  marital  ... euribor3m nr.employed   y\n",
              "0   56    housemaid  married  ...     4.857      5191.0  no\n",
              "1   57     services  married  ...     4.857      5191.0  no\n",
              "2   37     services  married  ...     4.857      5191.0  no\n",
              "3   40       admin.  married  ...     4.857      5191.0  no\n",
              "4   56     services  married  ...     4.857      5191.0  no\n",
              "5   45     services  married  ...     4.857      5191.0  no\n",
              "6   59       admin.  married  ...     4.857      5191.0  no\n",
              "7   41  blue-collar  married  ...     4.857      5191.0  no\n",
              "8   24   technician   single  ...     4.857      5191.0  no\n",
              "9   25     services   single  ...     4.857      5191.0  no\n",
              "\n",
              "[10 rows x 21 columns]"
            ]
          },
          "metadata": {
            "tags": []
          },
          "execution_count": 3
        }
      ]
    },
    {
      "cell_type": "code",
      "metadata": {
        "colab": {
          "base_uri": "https://localhost:8080/",
          "height": 294
        },
        "id": "YU_-SP88SCic",
        "outputId": "faec51e2-c47c-474f-d322-f99330e6ae54"
      },
      "source": [
        "# describe summary\n",
        "df_original.describe()"
      ],
      "execution_count": 4,
      "outputs": [
        {
          "output_type": "execute_result",
          "data": {
            "text/html": [
              "<div>\n",
              "<style scoped>\n",
              "    .dataframe tbody tr th:only-of-type {\n",
              "        vertical-align: middle;\n",
              "    }\n",
              "\n",
              "    .dataframe tbody tr th {\n",
              "        vertical-align: top;\n",
              "    }\n",
              "\n",
              "    .dataframe thead th {\n",
              "        text-align: right;\n",
              "    }\n",
              "</style>\n",
              "<table border=\"1\" class=\"dataframe\">\n",
              "  <thead>\n",
              "    <tr style=\"text-align: right;\">\n",
              "      <th></th>\n",
              "      <th>age</th>\n",
              "      <th>duration</th>\n",
              "      <th>campaign</th>\n",
              "      <th>pdays</th>\n",
              "      <th>previous</th>\n",
              "      <th>emp.var.rate</th>\n",
              "      <th>cons.price.idx</th>\n",
              "      <th>cons.conf.idx</th>\n",
              "      <th>euribor3m</th>\n",
              "      <th>nr.employed</th>\n",
              "    </tr>\n",
              "  </thead>\n",
              "  <tbody>\n",
              "    <tr>\n",
              "      <th>count</th>\n",
              "      <td>41188.00000</td>\n",
              "      <td>41188.000000</td>\n",
              "      <td>41188.000000</td>\n",
              "      <td>41188.000000</td>\n",
              "      <td>41188.000000</td>\n",
              "      <td>41188.000000</td>\n",
              "      <td>41188.000000</td>\n",
              "      <td>41188.000000</td>\n",
              "      <td>41188.000000</td>\n",
              "      <td>41188.000000</td>\n",
              "    </tr>\n",
              "    <tr>\n",
              "      <th>mean</th>\n",
              "      <td>40.02406</td>\n",
              "      <td>258.285010</td>\n",
              "      <td>2.567593</td>\n",
              "      <td>962.475454</td>\n",
              "      <td>0.172963</td>\n",
              "      <td>0.081886</td>\n",
              "      <td>93.575664</td>\n",
              "      <td>-40.502600</td>\n",
              "      <td>3.621291</td>\n",
              "      <td>5167.035911</td>\n",
              "    </tr>\n",
              "    <tr>\n",
              "      <th>std</th>\n",
              "      <td>10.42125</td>\n",
              "      <td>259.279249</td>\n",
              "      <td>2.770014</td>\n",
              "      <td>186.910907</td>\n",
              "      <td>0.494901</td>\n",
              "      <td>1.570960</td>\n",
              "      <td>0.578840</td>\n",
              "      <td>4.628198</td>\n",
              "      <td>1.734447</td>\n",
              "      <td>72.251528</td>\n",
              "    </tr>\n",
              "    <tr>\n",
              "      <th>min</th>\n",
              "      <td>17.00000</td>\n",
              "      <td>0.000000</td>\n",
              "      <td>1.000000</td>\n",
              "      <td>0.000000</td>\n",
              "      <td>0.000000</td>\n",
              "      <td>-3.400000</td>\n",
              "      <td>92.201000</td>\n",
              "      <td>-50.800000</td>\n",
              "      <td>0.634000</td>\n",
              "      <td>4963.600000</td>\n",
              "    </tr>\n",
              "    <tr>\n",
              "      <th>25%</th>\n",
              "      <td>32.00000</td>\n",
              "      <td>102.000000</td>\n",
              "      <td>1.000000</td>\n",
              "      <td>999.000000</td>\n",
              "      <td>0.000000</td>\n",
              "      <td>-1.800000</td>\n",
              "      <td>93.075000</td>\n",
              "      <td>-42.700000</td>\n",
              "      <td>1.344000</td>\n",
              "      <td>5099.100000</td>\n",
              "    </tr>\n",
              "    <tr>\n",
              "      <th>50%</th>\n",
              "      <td>38.00000</td>\n",
              "      <td>180.000000</td>\n",
              "      <td>2.000000</td>\n",
              "      <td>999.000000</td>\n",
              "      <td>0.000000</td>\n",
              "      <td>1.100000</td>\n",
              "      <td>93.749000</td>\n",
              "      <td>-41.800000</td>\n",
              "      <td>4.857000</td>\n",
              "      <td>5191.000000</td>\n",
              "    </tr>\n",
              "    <tr>\n",
              "      <th>75%</th>\n",
              "      <td>47.00000</td>\n",
              "      <td>319.000000</td>\n",
              "      <td>3.000000</td>\n",
              "      <td>999.000000</td>\n",
              "      <td>0.000000</td>\n",
              "      <td>1.400000</td>\n",
              "      <td>93.994000</td>\n",
              "      <td>-36.400000</td>\n",
              "      <td>4.961000</td>\n",
              "      <td>5228.100000</td>\n",
              "    </tr>\n",
              "    <tr>\n",
              "      <th>max</th>\n",
              "      <td>98.00000</td>\n",
              "      <td>4918.000000</td>\n",
              "      <td>56.000000</td>\n",
              "      <td>999.000000</td>\n",
              "      <td>7.000000</td>\n",
              "      <td>1.400000</td>\n",
              "      <td>94.767000</td>\n",
              "      <td>-26.900000</td>\n",
              "      <td>5.045000</td>\n",
              "      <td>5228.100000</td>\n",
              "    </tr>\n",
              "  </tbody>\n",
              "</table>\n",
              "</div>"
            ],
            "text/plain": [
              "               age      duration  ...     euribor3m   nr.employed\n",
              "count  41188.00000  41188.000000  ...  41188.000000  41188.000000\n",
              "mean      40.02406    258.285010  ...      3.621291   5167.035911\n",
              "std       10.42125    259.279249  ...      1.734447     72.251528\n",
              "min       17.00000      0.000000  ...      0.634000   4963.600000\n",
              "25%       32.00000    102.000000  ...      1.344000   5099.100000\n",
              "50%       38.00000    180.000000  ...      4.857000   5191.000000\n",
              "75%       47.00000    319.000000  ...      4.961000   5228.100000\n",
              "max       98.00000   4918.000000  ...      5.045000   5228.100000\n",
              "\n",
              "[8 rows x 10 columns]"
            ]
          },
          "metadata": {
            "tags": []
          },
          "execution_count": 4
        }
      ]
    },
    {
      "cell_type": "markdown",
      "metadata": {
        "id": "BGficeh_OWNu"
      },
      "source": [
        "# Handling missing values\n",
        "In order to do prediction first it is needed to be done data cleansing. As the first step if there is missing values in the data set it is dropped."
      ]
    },
    {
      "cell_type": "code",
      "metadata": {
        "colab": {
          "base_uri": "https://localhost:8080/"
        },
        "id": "3aEr_UAaSCid",
        "outputId": "fe7ef1de-1de1-48cd-8505-c2a24b9c8152"
      },
      "source": [
        "# check if there are null values\n",
        "df_original.isnull().values.any()"
      ],
      "execution_count": 5,
      "outputs": [
        {
          "output_type": "execute_result",
          "data": {
            "text/plain": [
              "False"
            ]
          },
          "metadata": {
            "tags": []
          },
          "execution_count": 5
        }
      ]
    },
    {
      "cell_type": "code",
      "metadata": {
        "colab": {
          "base_uri": "https://localhost:8080/"
        },
        "id": "8ymkf8iDSCid",
        "outputId": "1b5bd5d3-db2b-4c65-a653-556e793cfa1e"
      },
      "source": [
        "# get the numerical columns from the dataset\n",
        "df1 = df_original.select_dtypes(include=np.number)\n",
        "# get the information about numerical columns\n",
        "df1.info()"
      ],
      "execution_count": 6,
      "outputs": [
        {
          "output_type": "stream",
          "text": [
            "<class 'pandas.core.frame.DataFrame'>\n",
            "RangeIndex: 41188 entries, 0 to 41187\n",
            "Data columns (total 10 columns):\n",
            " #   Column          Non-Null Count  Dtype  \n",
            "---  ------          --------------  -----  \n",
            " 0   age             41188 non-null  int64  \n",
            " 1   duration        41188 non-null  int64  \n",
            " 2   campaign        41188 non-null  int64  \n",
            " 3   pdays           41188 non-null  int64  \n",
            " 4   previous        41188 non-null  int64  \n",
            " 5   emp.var.rate    41188 non-null  float64\n",
            " 6   cons.price.idx  41188 non-null  float64\n",
            " 7   cons.conf.idx   41188 non-null  float64\n",
            " 8   euribor3m       41188 non-null  float64\n",
            " 9   nr.employed     41188 non-null  float64\n",
            "dtypes: float64(5), int64(5)\n",
            "memory usage: 3.1 MB\n"
          ],
          "name": "stdout"
        }
      ]
    },
    {
      "cell_type": "markdown",
      "metadata": {
        "id": "_gM4fSpSOhk_"
      },
      "source": [
        "#Handling Outliers\n",
        "To handle outliers we can use boxplots. \n",
        "Outliers are values which are staying away from the rest of the datapoints.\n",
        "Here outliers have been dropped."
      ]
    },
    {
      "cell_type": "code",
      "metadata": {
        "colab": {
          "base_uri": "https://localhost:8080/",
          "height": 281
        },
        "id": "GrjW6pY_SWrY",
        "outputId": "d6155f05-34b4-4c84-827b-47b5823810f8"
      },
      "source": [
        "df1.boxplot()"
      ],
      "execution_count": 7,
      "outputs": [
        {
          "output_type": "execute_result",
          "data": {
            "text/plain": [
              "<matplotlib.axes._subplots.AxesSubplot at 0x7ff7da812090>"
            ]
          },
          "metadata": {
            "tags": []
          },
          "execution_count": 7
        },
        {
          "output_type": "display_data",
          "data": {
            "image/png": "[encoded data removed]",
            "text/plain": [
              "<Figure size 432x288 with 1 Axes>"
            ]
          },
          "metadata": {
            "tags": [],
            "needs_background": "light"
          }
        }
      ]
    },
    {
      "cell_type": "code",
      "metadata": {
        "colab": {
          "base_uri": "https://localhost:8080/",
          "height": 332
        },
        "id": "MxKy9WTaSkjl",
        "outputId": "94235c17-8476-45c8-a8b4-55868c1433f2"
      },
      "source": [
        "#for each column draw the boxplot\n",
        "columns = df1.columns\n",
        "print(columns)\n",
        "#Check any outliers in the dataset under each feature \n",
        "temp_df = pd.DataFrame(df1, columns=[columns[9]])\n",
        "temp_df.boxplot()"
      ],
      "execution_count": 8,
      "outputs": [
        {
          "output_type": "stream",
          "text": [
            "Index(['age', 'duration', 'campaign', 'pdays', 'previous', 'emp.var.rate',\n",
            "       'cons.price.idx', 'cons.conf.idx', 'euribor3m', 'nr.employed'],\n",
            "      dtype='object')\n"
          ],
          "name": "stdout"
        },
        {
          "output_type": "execute_result",
          "data": {
            "text/plain": [
              "<matplotlib.axes._subplots.AxesSubplot at 0x7ff7da6c9e10>"
            ]
          },
          "metadata": {
            "tags": []
          },
          "execution_count": 8
        },
        {
          "output_type": "display_data",
          "data": {
            "image/png": "[encoded data removed]",
            "text/plain": [
              "<Figure size 432x288 with 1 Axes>"
            ]
          },
          "metadata": {
            "tags": [],
            "needs_background": "light"
          }
        }
      ]
    },
    {
      "cell_type": "code",
      "metadata": {
        "colab": {
          "base_uri": "https://localhost:8080/",
          "height": 1000
        },
        "id": "P_dh46o1TjRh",
        "outputId": "a9fe3483-fc72-4292-c95a-3c36ca0dc1d4"
      },
      "source": [
        "# draw Q-Q plots for df2 features\n",
        "stats.probplot(df1['age'], dist=\"norm\", plot=plt)\n",
        "plt.show()\n",
        "stats.probplot(df1['duration'], dist=\"norm\", plot=plt)\n",
        "plt.show()\n",
        "stats.probplot(df1['campaign'], dist=\"norm\", plot=plt)\n",
        "plt.show()\n",
        "stats.probplot(df1['pdays'], dist=\"norm\", plot=plt)\n",
        "plt.show()\n",
        "stats.probplot(df1['previous'], dist=\"norm\", plot=plt)\n",
        "plt.show()\n",
        "stats.probplot(df1['emp.var.rate'], dist=\"norm\", plot=plt)\n",
        "plt.show()\n",
        "stats.probplot(df1['cons.price.idx'], dist=\"norm\", plot=plt)\n",
        "plt.show()\n",
        "stats.probplot(df1['cons.conf.idx'], dist=\"norm\", plot=plt)\n",
        "plt.show()\n",
        "stats.probplot(df1['euribor3m'], dist=\"norm\", plot=plt)\n",
        "plt.show()\n",
        "stats.probplot(df1['nr.employed'], dist=\"norm\", plot=plt)\n",
        "plt.show()"
      ],
      "execution_count": 9,
      "outputs": [
        {
          "output_type": "display_data",
          "data": {
            "image/png": "[encoded data removed]",
            "text/plain": [
              "<Figure size 432x288 with 1 Axes>"
            ]
          },
          "metadata": {
            "tags": [],
            "needs_background": "light"
          }
        },
        {
          "output_type": "display_data",
          "data": {
            "image/png": "[encoded data removed]",
            "text/plain": [
              "<Figure size 432x288 with 1 Axes>"
            ]
          },
          "metadata": {
            "tags": [],
            "needs_background": "light"
          }
        },
        {
          "output_type": "display_data",
          "data": {
            "image/png": "[encoded data removed]",
            "text/plain": [
              "<Figure size 432x288 with 1 Axes>"
            ]
          },
          "metadata": {
            "tags": [],
            "needs_background": "light"
          }
        },
        {
          "output_type": "display_data",
          "data": {
            "image/png": "[encoded data removed]",
            "text/plain": [
              "<Figure size 432x288 with 1 Axes>"
            ]
          },
          "metadata": {
            "tags": [],
            "needs_background": "light"
          }
        },
        {
          "output_type": "display_data",
          "data": {
            "image/png": "[encoded data removed]",
            "text/plain": [
              "<Figure size 432x288 with 1 Axes>"
            ]
          },
          "metadata": {
            "tags": [],
            "needs_background": "light"
          }
        },
        {
          "output_type": "display_data",
          "data": {
            "image/png": "[encoded data removed]",
            "text/plain": [
              "<Figure size 432x288 with 1 Axes>"
            ]
          },
          "metadata": {
            "tags": [],
            "needs_background": "light"
          }
        },
        {
          "output_type": "display_data",
          "data": {
            "image/png": "[encoded data removed]",
            "text/plain": [
              "<Figure size 432x288 with 1 Axes>"
            ]
          },
          "metadata": {
            "tags": [],
            "needs_background": "light"
          }
        },
        {
          "output_type": "display_data",
          "data": {
            "image/png": "[encoded data removed]",
            "text/plain": [
              "<Figure size 432x288 with 1 Axes>"
            ]
          },
          "metadata": {
            "tags": [],
            "needs_background": "light"
          }
        },
        {
          "output_type": "display_data",
          "data": {
            "image/png": "[encoded data removed]",
            "text/plain": [
              "<Figure size 432x288 with 1 Axes>"
            ]
          },
          "metadata": {
            "tags": [],
            "needs_background": "light"
          }
        },
        {
          "output_type": "display_data",
          "data": {
            "image/png": "[encoded data removed]",
            "text/plain": [
              "<Figure size 432x288 with 1 Axes>"
            ]
          },
          "metadata": {
            "tags": [],
            "needs_background": "light"
          }
        }
      ]
    },
    {
      "cell_type": "markdown",
      "metadata": {
        "id": "2Z1bJ7zJOr21"
      },
      "source": [
        "#Data Transformation\n",
        "To identify wheather Transformation is needed  Q-Q plots and histograms can be used. Then it can be identified weather data points are in normal distribution.\n",
        "After plotting histograms and Q-Q plots we can see if a feature is right skewed or left skewed.\n",
        "If a feature is right skewed we use logarithm transformation and if it is left skewed we use exponential transformation to adjust them to a normal distribution."
      ]
    },
    {
      "cell_type": "code",
      "metadata": {
        "colab": {
          "base_uri": "https://localhost:8080/",
          "height": 498
        },
        "id": "ukAzQBLrUlq1",
        "outputId": "74171845-7e26-4fde-d614-d8c927137fe9"
      },
      "source": [
        "df1.hist()"
      ],
      "execution_count": 10,
      "outputs": [
        {
          "output_type": "execute_result",
          "data": {
            "text/plain": [
              "array([[<matplotlib.axes._subplots.AxesSubplot object at 0x7ff7da17b650>,\n",
              "        <matplotlib.axes._subplots.AxesSubplot object at 0x7ff7d9eb9410>,\n",
              "        <matplotlib.axes._subplots.AxesSubplot object at 0x7ff7d9e6ea50>],\n",
              "       [<matplotlib.axes._subplots.AxesSubplot object at 0x7ff7d9e2f110>,\n",
              "        <matplotlib.axes._subplots.AxesSubplot object at 0x7ff7d9de5790>,\n",
              "        <matplotlib.axes._subplots.AxesSubplot object at 0x7ff7d9d9be10>],\n",
              "       [<matplotlib.axes._subplots.AxesSubplot object at 0x7ff7d9d5c4d0>,\n",
              "        <matplotlib.axes._subplots.AxesSubplot object at 0x7ff7d9d1efd0>,\n",
              "        <matplotlib.axes._subplots.AxesSubplot object at 0x7ff7d9d2a050>],\n",
              "       [<matplotlib.axes._subplots.AxesSubplot object at 0x7ff7d9cde790>,\n",
              "        <matplotlib.axes._subplots.AxesSubplot object at 0x7ff7d9cc0f10>,\n",
              "        <matplotlib.axes._subplots.AxesSubplot object at 0x7ff7d9c825d0>]],\n",
              "      dtype=object)"
            ]
          },
          "metadata": {
            "tags": []
          },
          "execution_count": 10
        },
        {
          "output_type": "display_data",
          "data": {
            "image/png": "[encoded data removed]",
            "text/plain": [
              "<Figure size 432x288 with 12 Axes>"
            ]
          },
          "metadata": {
            "tags": [],
            "needs_background": "light"
          }
        }
      ]
    },
    {
      "cell_type": "code",
      "metadata": {
        "colab": {
          "base_uri": "https://localhost:8080/",
          "height": 498
        },
        "id": "1k5-P30oU7Ra",
        "outputId": "bf000af1-5bc9-4285-ca43-1bf28218918d"
      },
      "source": [
        "# do the transformations for right skewed features\n",
        "sqrt_transformer = FunctionTransformer(np.sqrt, validate=True)\n",
        "\n",
        "columns_to_sqrt = ['age','duration', 'campaign', 'previous']\n",
        "data = sqrt_transformer.transform(df1[columns_to_sqrt])\n",
        "df1.hist()"
      ],
      "execution_count": 11,
      "outputs": [
        {
          "output_type": "execute_result",
          "data": {
            "text/plain": [
              "array([[<matplotlib.axes._subplots.AxesSubplot object at 0x7ff7d9aa1c90>,\n",
              "        <matplotlib.axes._subplots.AxesSubplot object at 0x7ff7d9a47dd0>,\n",
              "        <matplotlib.axes._subplots.AxesSubplot object at 0x7ff7d9996090>],\n",
              "       [<matplotlib.axes._subplots.AxesSubplot object at 0x7ff7d99c9610>,\n",
              "        <matplotlib.axes._subplots.AxesSubplot object at 0x7ff7d997dc10>,\n",
              "        <matplotlib.axes._subplots.AxesSubplot object at 0x7ff7d99401d0>],\n",
              "       [<matplotlib.axes._subplots.AxesSubplot object at 0x7ff7d98f5750>,\n",
              "        <matplotlib.axes._subplots.AxesSubplot object at 0x7ff7d98aacd0>,\n",
              "        <matplotlib.axes._subplots.AxesSubplot object at 0x7ff7d98c1190>],\n",
              "       [<matplotlib.axes._subplots.AxesSubplot object at 0x7ff7d9876810>,\n",
              "        <matplotlib.axes._subplots.AxesSubplot object at 0x7ff7d97d7d90>,\n",
              "        <matplotlib.axes._subplots.AxesSubplot object at 0x7ff7d979a350>]],\n",
              "      dtype=object)"
            ]
          },
          "metadata": {
            "tags": []
          },
          "execution_count": 11
        },
        {
          "output_type": "display_data",
          "data": {
            "image/png": "[encoded data removed]",
            "text/plain": [
              "<Figure size 432x288 with 12 Axes>"
            ]
          },
          "metadata": {
            "tags": [],
            "needs_background": "light"
          }
        }
      ]
    },
    {
      "cell_type": "code",
      "metadata": {
        "colab": {
          "base_uri": "https://localhost:8080/",
          "height": 498
        },
        "id": "xDi_Lk2LSCig",
        "outputId": "bcd91bf7-fc75-46a8-e76e-5e26f072f96b"
      },
      "source": [
        "# do the transformations for left skewed features\n",
        "squared_transformer = FunctionTransformer(lambda x: x**2, validate=True)\n",
        "\n",
        "columns_to_squared = ['nr.employed']\n",
        "data = squared_transformer.transform(df1[columns_to_squared])\n",
        "df1.hist()"
      ],
      "execution_count": 12,
      "outputs": [
        {
          "output_type": "execute_result",
          "data": {
            "text/plain": [
              "array([[<matplotlib.axes._subplots.AxesSubplot object at 0x7ff7d9b0d950>,\n",
              "        <matplotlib.axes._subplots.AxesSubplot object at 0x7ff7d967d8d0>,\n",
              "        <matplotlib.axes._subplots.AxesSubplot object at 0x7ff7d9ef51d0>],\n",
              "       [<matplotlib.axes._subplots.AxesSubplot object at 0x7ff7d9e9bd10>,\n",
              "        <matplotlib.axes._subplots.AxesSubplot object at 0x7ff7da0cb310>,\n",
              "        <matplotlib.axes._subplots.AxesSubplot object at 0x7ff7da65f050>],\n",
              "       [<matplotlib.axes._subplots.AxesSubplot object at 0x7ff7da0f2f10>,\n",
              "        <matplotlib.axes._subplots.AxesSubplot object at 0x7ff7da176190>,\n",
              "        <matplotlib.axes._subplots.AxesSubplot object at 0x7ff7da7ac190>],\n",
              "       [<matplotlib.axes._subplots.AxesSubplot object at 0x7ff7da052910>,\n",
              "        <matplotlib.axes._subplots.AxesSubplot object at 0x7ff7d9fd2890>,\n",
              "        <matplotlib.axes._subplots.AxesSubplot object at 0x7ff7da045090>]],\n",
              "      dtype=object)"
            ]
          },
          "metadata": {
            "tags": []
          },
          "execution_count": 12
        },
        {
          "output_type": "display_data",
          "data": {
            "image/png": "[encoded data removed]",
            "text/plain": [
              "<Figure size 432x288 with 12 Axes>"
            ]
          },
          "metadata": {
            "tags": [],
            "needs_background": "light"
          }
        }
      ]
    },
    {
      "cell_type": "markdown",
      "metadata": {
        "id": "VavCWrN6O1as"
      },
      "source": [
        "# Feature Coding\n",
        "The purpose of feature coding is to convert categorical text data to numerical values. Here we have two methods,\n",
        "One-hot encoding\n",
        "Lable encoding\n",
        "In one-hot encoding we use vectors and in label-encoding we use integers as labels.\n",
        "One hot encoding is best when there are one or two categories. But it is difficult to use onehot encoding when new feature are added to the data set. Label encoding is useful if there are many categories it is also a popular way of feature coding."
      ]
    },
    {
      "cell_type": "code",
      "metadata": {
        "colab": {
          "base_uri": "https://localhost:8080/"
        },
        "id": "YhC8KYulSCig",
        "outputId": "ff68b7b3-a071-486e-ad03-54d4236c80bd"
      },
      "source": [
        "# identify the categorical columns\n",
        "df2 = df_original.select_dtypes(exclude=np.number)\n",
        "df2.info()"
      ],
      "execution_count": 13,
      "outputs": [
        {
          "output_type": "stream",
          "text": [
            "<class 'pandas.core.frame.DataFrame'>\n",
            "RangeIndex: 41188 entries, 0 to 41187\n",
            "Data columns (total 11 columns):\n",
            " #   Column       Non-Null Count  Dtype \n",
            "---  ------       --------------  ----- \n",
            " 0   job          41188 non-null  object\n",
            " 1   marital      41188 non-null  object\n",
            " 2   education    41188 non-null  object\n",
            " 3   default      41188 non-null  object\n",
            " 4   housing      41188 non-null  object\n",
            " 5   loan         41188 non-null  object\n",
            " 6   contact      41188 non-null  object\n",
            " 7   month        41188 non-null  object\n",
            " 8   day_of_week  41188 non-null  object\n",
            " 9   poutcome     41188 non-null  object\n",
            " 10  y            41188 non-null  object\n",
            "dtypes: object(11)\n",
            "memory usage: 3.5+ MB\n"
          ],
          "name": "stdout"
        }
      ]
    },
    {
      "cell_type": "code",
      "metadata": {
        "colab": {
          "base_uri": "https://localhost:8080/"
        },
        "id": "JZKqhsGiTSaZ",
        "outputId": "f2a98019-ef48-4cc8-b107-9837e11ce211"
      },
      "source": [
        "# do the one hot encoder to categorical features\n",
        "df2_cols = df2.columns\n",
        "df2_cols = df2_cols.drop('y')\n",
        "onehot_encoder = OneHotEncoder(handle_unknown='ignore')\n",
        "onehot_encoder.fit(df2[df2_cols])\n",
        "coded_column_names = onehot_encoder.get_feature_names(df2_cols)\n",
        "\n",
        "onehot_encoder_df = pd.DataFrame(onehot_encoder.transform(df2[df2_cols]).toarray(),columns=coded_column_names)\n",
        "df2 = df2.join(onehot_encoder_df)\n",
        "df2.info()"
      ],
      "execution_count": 14,
      "outputs": [
        {
          "output_type": "stream",
          "text": [
            "<class 'pandas.core.frame.DataFrame'>\n",
            "RangeIndex: 41188 entries, 0 to 41187\n",
            "Data columns (total 64 columns):\n",
            " #   Column                         Non-Null Count  Dtype  \n",
            "---  ------                         --------------  -----  \n",
            " 0   job                            41188 non-null  object \n",
            " 1   marital                        41188 non-null  object \n",
            " 2   education                      41188 non-null  object \n",
            " 3   default                        41188 non-null  object \n",
            " 4   housing                        41188 non-null  object \n",
            " 5   loan                           41188 non-null  object \n",
            " 6   contact                        41188 non-null  object \n",
            " 7   month                          41188 non-null  object \n",
            " 8   day_of_week                    41188 non-null  object \n",
            " 9   poutcome                       41188 non-null  object \n",
            " 10  y                              41188 non-null  object \n",
            " 11  job_admin.                     41188 non-null  float64\n",
            " 12  job_blue-collar                41188 non-null  float64\n",
            " 13  job_entrepreneur               41188 non-null  float64\n",
            " 14  job_housemaid                  41188 non-null  float64\n",
            " 15  job_management                 41188 non-null  float64\n",
            " 16  job_retired                    41188 non-null  float64\n",
            " 17  job_self-employed              41188 non-null  float64\n",
            " 18  job_services                   41188 non-null  float64\n",
            " 19  job_student                    41188 non-null  float64\n",
            " 20  job_technician                 41188 non-null  float64\n",
            " 21  job_unemployed                 41188 non-null  float64\n",
            " 22  job_unknown                    41188 non-null  float64\n",
            " 23  marital_divorced               41188 non-null  float64\n",
            " 24  marital_married                41188 non-null  float64\n",
            " 25  marital_single                 41188 non-null  float64\n",
            " 26  marital_unknown                41188 non-null  float64\n",
            " 27  education_basic.4y             41188 non-null  float64\n",
            " 28  education_basic.6y             41188 non-null  float64\n",
            " 29  education_basic.9y             41188 non-null  float64\n",
            " 30  education_high.school          41188 non-null  float64\n",
            " 31  education_illiterate           41188 non-null  float64\n",
            " 32  education_professional.course  41188 non-null  float64\n",
            " 33  education_university.degree    41188 non-null  float64\n",
            " 34  education_unknown              41188 non-null  float64\n",
            " 35  default_no                     41188 non-null  float64\n",
            " 36  default_unknown                41188 non-null  float64\n",
            " 37  default_yes                    41188 non-null  float64\n",
            " 38  housing_no                     41188 non-null  float64\n",
            " 39  housing_unknown                41188 non-null  float64\n",
            " 40  housing_yes                    41188 non-null  float64\n",
            " 41  loan_no                        41188 non-null  float64\n",
            " 42  loan_unknown                   41188 non-null  float64\n",
            " 43  loan_yes                       41188 non-null  float64\n",
            " 44  contact_cellular               41188 non-null  float64\n",
            " 45  contact_telephone              41188 non-null  float64\n",
            " 46  month_apr                      41188 non-null  float64\n",
            " 47  month_aug                      41188 non-null  float64\n",
            " 48  month_dec                      41188 non-null  float64\n",
            " 49  month_jul                      41188 non-null  float64\n",
            " 50  month_jun                      41188 non-null  float64\n",
            " 51  month_mar                      41188 non-null  float64\n",
            " 52  month_may                      41188 non-null  float64\n",
            " 53  month_nov                      41188 non-null  float64\n",
            " 54  month_oct                      41188 non-null  float64\n",
            " 55  month_sep                      41188 non-null  float64\n",
            " 56  day_of_week_fri                41188 non-null  float64\n",
            " 57  day_of_week_mon                41188 non-null  float64\n",
            " 58  day_of_week_thu                41188 non-null  float64\n",
            " 59  day_of_week_tue                41188 non-null  float64\n",
            " 60  day_of_week_wed                41188 non-null  float64\n",
            " 61  poutcome_failure               41188 non-null  float64\n",
            " 62  poutcome_nonexistent           41188 non-null  float64\n",
            " 63  poutcome_success               41188 non-null  float64\n",
            "dtypes: float64(53), object(11)\n",
            "memory usage: 20.1+ MB\n"
          ],
          "name": "stdout"
        }
      ]
    },
    {
      "cell_type": "code",
      "metadata": {
        "colab": {
          "base_uri": "https://localhost:8080/",
          "height": 393
        },
        "id": "apixF93GTyua",
        "outputId": "d74916f2-fb6c-4e05-cb32-0f966a51e9ba"
      },
      "source": [
        "# drop the categorical columns from df2 dataframe\n",
        "df2.drop(df2_cols, axis=1, inplace=True)\n",
        "df2.head(10)"
      ],
      "execution_count": 15,
      "outputs": [
        {
          "output_type": "execute_result",
          "data": {
            "text/html": [
              "<div>\n",
              "<style scoped>\n",
              "    .dataframe tbody tr th:only-of-type {\n",
              "        vertical-align: middle;\n",
              "    }\n",
              "\n",
              "    .dataframe tbody tr th {\n",
              "        vertical-align: top;\n",
              "    }\n",
              "\n",
              "    .dataframe thead th {\n",
              "        text-align: right;\n",
              "    }\n",
              "</style>\n",
              "<table border=\"1\" class=\"dataframe\">\n",
              "  <thead>\n",
              "    <tr style=\"text-align: right;\">\n",
              "      <th></th>\n",
              "      <th>y</th>\n",
              "      <th>job_admin.</th>\n",
              "      <th>job_blue-collar</th>\n",
              "      <th>job_entrepreneur</th>\n",
              "      <th>job_housemaid</th>\n",
              "      <th>job_management</th>\n",
              "      <th>job_retired</th>\n",
              "      <th>job_self-employed</th>\n",
              "      <th>job_services</th>\n",
              "      <th>job_student</th>\n",
              "      <th>job_technician</th>\n",
              "      <th>job_unemployed</th>\n",
              "      <th>job_unknown</th>\n",
              "      <th>marital_divorced</th>\n",
              "      <th>marital_married</th>\n",
              "      <th>marital_single</th>\n",
              "      <th>marital_unknown</th>\n",
              "      <th>education_basic.4y</th>\n",
              "      <th>education_basic.6y</th>\n",
              "      <th>education_basic.9y</th>\n",
              "      <th>education_high.school</th>\n",
              "      <th>education_illiterate</th>\n",
              "      <th>education_professional.course</th>\n",
              "      <th>education_university.degree</th>\n",
              "      <th>education_unknown</th>\n",
              "      <th>default_no</th>\n",
              "      <th>default_unknown</th>\n",
              "      <th>default_yes</th>\n",
              "      <th>housing_no</th>\n",
              "      <th>housing_unknown</th>\n",
              "      <th>housing_yes</th>\n",
              "      <th>loan_no</th>\n",
              "      <th>loan_unknown</th>\n",
              "      <th>loan_yes</th>\n",
              "      <th>contact_cellular</th>\n",
              "      <th>contact_telephone</th>\n",
              "      <th>month_apr</th>\n",
              "      <th>month_aug</th>\n",
              "      <th>month_dec</th>\n",
              "      <th>month_jul</th>\n",
              "      <th>month_jun</th>\n",
              "      <th>month_mar</th>\n",
              "      <th>month_may</th>\n",
              "      <th>month_nov</th>\n",
              "      <th>month_oct</th>\n",
              "      <th>month_sep</th>\n",
              "      <th>day_of_week_fri</th>\n",
              "      <th>day_of_week_mon</th>\n",
              "      <th>day_of_week_thu</th>\n",
              "      <th>day_of_week_tue</th>\n",
              "      <th>day_of_week_wed</th>\n",
              "      <th>poutcome_failure</th>\n",
              "      <th>poutcome_nonexistent</th>\n",
              "      <th>poutcome_success</th>\n",
              "    </tr>\n",
              "  </thead>\n",
              "  <tbody>\n",
              "    <tr>\n",
              "      <th>0</th>\n",
              "      <td>no</td>\n",
              "      <td>0.0</td>\n",
              "      <td>0.0</td>\n",
              "      <td>0.0</td>\n",
              "      <td>1.0</td>\n",
              "      <td>0.0</td>\n",
              "      <td>0.0</td>\n",
              "      <td>0.0</td>\n",
              "      <td>0.0</td>\n",
              "      <td>0.0</td>\n",
              "      <td>0.0</td>\n",
              "      <td>0.0</td>\n",
              "      <td>0.0</td>\n",
              "      <td>0.0</td>\n",
              "      <td>1.0</td>\n",
              "      <td>0.0</td>\n",
              "      <td>0.0</td>\n",
              "      <td>1.0</td>\n",
              "      <td>0.0</td>\n",
              "      <td>0.0</td>\n",
              "      <td>0.0</td>\n",
              "      <td>0.0</td>\n",
              "      <td>0.0</td>\n",
              "      <td>0.0</td>\n",
              "      <td>0.0</td>\n",
              "      <td>1.0</td>\n",
              "      <td>0.0</td>\n",
              "      <td>0.0</td>\n",
              "      <td>1.0</td>\n",
              "      <td>0.0</td>\n",
              "      <td>0.0</td>\n",
              "      <td>1.0</td>\n",
              "      <td>0.0</td>\n",
              "      <td>0.0</td>\n",
              "      <td>0.0</td>\n",
              "      <td>1.0</td>\n",
              "      <td>0.0</td>\n",
              "      <td>0.0</td>\n",
              "      <td>0.0</td>\n",
              "      <td>0.0</td>\n",
              "      <td>0.0</td>\n",
              "      <td>0.0</td>\n",
              "      <td>1.0</td>\n",
              "      <td>0.0</td>\n",
              "      <td>0.0</td>\n",
              "      <td>0.0</td>\n",
              "      <td>0.0</td>\n",
              "      <td>1.0</td>\n",
              "      <td>0.0</td>\n",
              "      <td>0.0</td>\n",
              "      <td>0.0</td>\n",
              "      <td>0.0</td>\n",
              "      <td>1.0</td>\n",
              "      <td>0.0</td>\n",
              "    </tr>\n",
              "    <tr>\n",
              "      <th>1</th>\n",
              "      <td>no</td>\n",
              "      <td>0.0</td>\n",
              "      <td>0.0</td>\n",
              "      <td>0.0</td>\n",
              "      <td>0.0</td>\n",
              "      <td>0.0</td>\n",
              "      <td>0.0</td>\n",
              "      <td>0.0</td>\n",
              "      <td>1.0</td>\n",
              "      <td>0.0</td>\n",
              "      <td>0.0</td>\n",
              "      <td>0.0</td>\n",
              "      <td>0.0</td>\n",
              "      <td>0.0</td>\n",
              "      <td>1.0</td>\n",
              "      <td>0.0</td>\n",
              "      <td>0.0</td>\n",
              "      <td>0.0</td>\n",
              "      <td>0.0</td>\n",
              "      <td>0.0</td>\n",
              "      <td>1.0</td>\n",
              "      <td>0.0</td>\n",
              "      <td>0.0</td>\n",
              "      <td>0.0</td>\n",
              "      <td>0.0</td>\n",
              "      <td>0.0</td>\n",
              "      <td>1.0</td>\n",
              "      <td>0.0</td>\n",
              "      <td>1.0</td>\n",
              "      <td>0.0</td>\n",
              "      <td>0.0</td>\n",
              "      <td>1.0</td>\n",
              "      <td>0.0</td>\n",
              "      <td>0.0</td>\n",
              "      <td>0.0</td>\n",
              "      <td>1.0</td>\n",
              "      <td>0.0</td>\n",
              "      <td>0.0</td>\n",
              "      <td>0.0</td>\n",
              "      <td>0.0</td>\n",
              "      <td>0.0</td>\n",
              "      <td>0.0</td>\n",
              "      <td>1.0</td>\n",
              "      <td>0.0</td>\n",
              "      <td>0.0</td>\n",
              "      <td>0.0</td>\n",
              "      <td>0.0</td>\n",
              "      <td>1.0</td>\n",
              "      <td>0.0</td>\n",
              "      <td>0.0</td>\n",
              "      <td>0.0</td>\n",
              "      <td>0.0</td>\n",
              "      <td>1.0</td>\n",
              "      <td>0.0</td>\n",
              "    </tr>\n",
              "    <tr>\n",
              "      <th>2</th>\n",
              "      <td>no</td>\n",
              "      <td>0.0</td>\n",
              "      <td>0.0</td>\n",
              "      <td>0.0</td>\n",
              "      <td>0.0</td>\n",
              "      <td>0.0</td>\n",
              "      <td>0.0</td>\n",
              "      <td>0.0</td>\n",
              "      <td>1.0</td>\n",
              "      <td>0.0</td>\n",
              "      <td>0.0</td>\n",
              "      <td>0.0</td>\n",
              "      <td>0.0</td>\n",
              "      <td>0.0</td>\n",
              "      <td>1.0</td>\n",
              "      <td>0.0</td>\n",
              "      <td>0.0</td>\n",
              "      <td>0.0</td>\n",
              "      <td>0.0</td>\n",
              "      <td>0.0</td>\n",
              "      <td>1.0</td>\n",
              "      <td>0.0</td>\n",
              "      <td>0.0</td>\n",
              "      <td>0.0</td>\n",
              "      <td>0.0</td>\n",
              "      <td>1.0</td>\n",
              "      <td>0.0</td>\n",
              "      <td>0.0</td>\n",
              "      <td>0.0</td>\n",
              "      <td>0.0</td>\n",
              "      <td>1.0</td>\n",
              "      <td>1.0</td>\n",
              "      <td>0.0</td>\n",
              "      <td>0.0</td>\n",
              "      <td>0.0</td>\n",
              "      <td>1.0</td>\n",
              "      <td>0.0</td>\n",
              "      <td>0.0</td>\n",
              "      <td>0.0</td>\n",
              "      <td>0.0</td>\n",
              "      <td>0.0</td>\n",
              "      <td>0.0</td>\n",
              "      <td>1.0</td>\n",
              "      <td>0.0</td>\n",
              "      <td>0.0</td>\n",
              "      <td>0.0</td>\n",
              "      <td>0.0</td>\n",
              "      <td>1.0</td>\n",
              "      <td>0.0</td>\n",
              "      <td>0.0</td>\n",
              "      <td>0.0</td>\n",
              "      <td>0.0</td>\n",
              "      <td>1.0</td>\n",
              "      <td>0.0</td>\n",
              "    </tr>\n",
              "    <tr>\n",
              "      <th>3</th>\n",
              "      <td>no</td>\n",
              "      <td>1.0</td>\n",
              "      <td>0.0</td>\n",
              "      <td>0.0</td>\n",
              "      <td>0.0</td>\n",
              "      <td>0.0</td>\n",
              "      <td>0.0</td>\n",
              "      <td>0.0</td>\n",
              "      <td>0.0</td>\n",
              "      <td>0.0</td>\n",
              "      <td>0.0</td>\n",
              "      <td>0.0</td>\n",
              "      <td>0.0</td>\n",
              "      <td>0.0</td>\n",
              "      <td>1.0</td>\n",
              "      <td>0.0</td>\n",
              "      <td>0.0</td>\n",
              "      <td>0.0</td>\n",
              "      <td>1.0</td>\n",
              "      <td>0.0</td>\n",
              "      <td>0.0</td>\n",
              "      <td>0.0</td>\n",
              "      <td>0.0</td>\n",
              "      <td>0.0</td>\n",
              "      <td>0.0</td>\n",
              "      <td>1.0</td>\n",
              "      <td>0.0</td>\n",
              "      <td>0.0</td>\n",
              "      <td>1.0</td>\n",
              "      <td>0.0</td>\n",
              "      <td>0.0</td>\n",
              "      <td>1.0</td>\n",
              "      <td>0.0</td>\n",
              "      <td>0.0</td>\n",
              "      <td>0.0</td>\n",
              "      <td>1.0</td>\n",
              "      <td>0.0</td>\n",
              "      <td>0.0</td>\n",
              "      <td>0.0</td>\n",
              "      <td>0.0</td>\n",
              "      <td>0.0</td>\n",
              "      <td>0.0</td>\n",
              "      <td>1.0</td>\n",
              "      <td>0.0</td>\n",
              "      <td>0.0</td>\n",
              "      <td>0.0</td>\n",
              "      <td>0.0</td>\n",
              "      <td>1.0</td>\n",
              "      <td>0.0</td>\n",
              "      <td>0.0</td>\n",
              "      <td>0.0</td>\n",
              "      <td>0.0</td>\n",
              "      <td>1.0</td>\n",
              "      <td>0.0</td>\n",
              "    </tr>\n",
              "    <tr>\n",
              "      <th>4</th>\n",
              "      <td>no</td>\n",
              "      <td>0.0</td>\n",
              "      <td>0.0</td>\n",
              "      <td>0.0</td>\n",
              "      <td>0.0</td>\n",
              "      <td>0.0</td>\n",
              "      <td>0.0</td>\n",
              "      <td>0.0</td>\n",
              "      <td>1.0</td>\n",
              "      <td>0.0</td>\n",
              "      <td>0.0</td>\n",
              "      <td>0.0</td>\n",
              "      <td>0.0</td>\n",
              "      <td>0.0</td>\n",
              "      <td>1.0</td>\n",
              "      <td>0.0</td>\n",
              "      <td>0.0</td>\n",
              "      <td>0.0</td>\n",
              "      <td>0.0</td>\n",
              "      <td>0.0</td>\n",
              "      <td>1.0</td>\n",
              "      <td>0.0</td>\n",
              "      <td>0.0</td>\n",
              "      <td>0.0</td>\n",
              "      <td>0.0</td>\n",
              "      <td>1.0</td>\n",
              "      <td>0.0</td>\n",
              "      <td>0.0</td>\n",
              "      <td>1.0</td>\n",
              "      <td>0.0</td>\n",
              "      <td>0.0</td>\n",
              "      <td>0.0</td>\n",
              "      <td>0.0</td>\n",
              "      <td>1.0</td>\n",
              "      <td>0.0</td>\n",
              "      <td>1.0</td>\n",
              "      <td>0.0</td>\n",
              "      <td>0.0</td>\n",
              "      <td>0.0</td>\n",
              "      <td>0.0</td>\n",
              "      <td>0.0</td>\n",
              "      <td>0.0</td>\n",
              "      <td>1.0</td>\n",
              "      <td>0.0</td>\n",
              "      <td>0.0</td>\n",
              "      <td>0.0</td>\n",
              "      <td>0.0</td>\n",
              "      <td>1.0</td>\n",
              "      <td>0.0</td>\n",
              "      <td>0.0</td>\n",
              "      <td>0.0</td>\n",
              "      <td>0.0</td>\n",
              "      <td>1.0</td>\n",
              "      <td>0.0</td>\n",
              "    </tr>\n",
              "    <tr>\n",
              "      <th>5</th>\n",
              "      <td>no</td>\n",
              "      <td>0.0</td>\n",
              "      <td>0.0</td>\n",
              "      <td>0.0</td>\n",
              "      <td>0.0</td>\n",
              "      <td>0.0</td>\n",
              "      <td>0.0</td>\n",
              "      <td>0.0</td>\n",
              "      <td>1.0</td>\n",
              "      <td>0.0</td>\n",
              "      <td>0.0</td>\n",
              "      <td>0.0</td>\n",
              "      <td>0.0</td>\n",
              "      <td>0.0</td>\n",
              "      <td>1.0</td>\n",
              "      <td>0.0</td>\n",
              "      <td>0.0</td>\n",
              "      <td>0.0</td>\n",
              "      <td>0.0</td>\n",
              "      <td>1.0</td>\n",
              "      <td>0.0</td>\n",
              "      <td>0.0</td>\n",
              "      <td>0.0</td>\n",
              "      <td>0.0</td>\n",
              "      <td>0.0</td>\n",
              "      <td>0.0</td>\n",
              "      <td>1.0</td>\n",
              "      <td>0.0</td>\n",
              "      <td>1.0</td>\n",
              "      <td>0.0</td>\n",
              "      <td>0.0</td>\n",
              "      <td>1.0</td>\n",
              "      <td>0.0</td>\n",
              "      <td>0.0</td>\n",
              "      <td>0.0</td>\n",
              "      <td>1.0</td>\n",
              "      <td>0.0</td>\n",
              "      <td>0.0</td>\n",
              "      <td>0.0</td>\n",
              "      <td>0.0</td>\n",
              "      <td>0.0</td>\n",
              "      <td>0.0</td>\n",
              "      <td>1.0</td>\n",
              "      <td>0.0</td>\n",
              "      <td>0.0</td>\n",
              "      <td>0.0</td>\n",
              "      <td>0.0</td>\n",
              "      <td>1.0</td>\n",
              "      <td>0.0</td>\n",
              "      <td>0.0</td>\n",
              "      <td>0.0</td>\n",
              "      <td>0.0</td>\n",
              "      <td>1.0</td>\n",
              "      <td>0.0</td>\n",
              "    </tr>\n",
              "    <tr>\n",
              "      <th>6</th>\n",
              "      <td>no</td>\n",
              "      <td>1.0</td>\n",
              "      <td>0.0</td>\n",
              "      <td>0.0</td>\n",
              "      <td>0.0</td>\n",
              "      <td>0.0</td>\n",
              "      <td>0.0</td>\n",
              "      <td>0.0</td>\n",
              "      <td>0.0</td>\n",
              "      <td>0.0</td>\n",
              "      <td>0.0</td>\n",
              "      <td>0.0</td>\n",
              "      <td>0.0</td>\n",
              "      <td>0.0</td>\n",
              "      <td>1.0</td>\n",
              "      <td>0.0</td>\n",
              "      <td>0.0</td>\n",
              "      <td>0.0</td>\n",
              "      <td>0.0</td>\n",
              "      <td>0.0</td>\n",
              "      <td>0.0</td>\n",
              "      <td>0.0</td>\n",
              "      <td>1.0</td>\n",
              "      <td>0.0</td>\n",
              "      <td>0.0</td>\n",
              "      <td>1.0</td>\n",
              "      <td>0.0</td>\n",
              "      <td>0.0</td>\n",
              "      <td>1.0</td>\n",
              "      <td>0.0</td>\n",
              "      <td>0.0</td>\n",
              "      <td>1.0</td>\n",
              "      <td>0.0</td>\n",
              "      <td>0.0</td>\n",
              "      <td>0.0</td>\n",
              "      <td>1.0</td>\n",
              "      <td>0.0</td>\n",
              "      <td>0.0</td>\n",
              "      <td>0.0</td>\n",
              "      <td>0.0</td>\n",
              "      <td>0.0</td>\n",
              "      <td>0.0</td>\n",
              "      <td>1.0</td>\n",
              "      <td>0.0</td>\n",
              "      <td>0.0</td>\n",
              "      <td>0.0</td>\n",
              "      <td>0.0</td>\n",
              "      <td>1.0</td>\n",
              "      <td>0.0</td>\n",
              "      <td>0.0</td>\n",
              "      <td>0.0</td>\n",
              "      <td>0.0</td>\n",
              "      <td>1.0</td>\n",
              "      <td>0.0</td>\n",
              "    </tr>\n",
              "    <tr>\n",
              "      <th>7</th>\n",
              "      <td>no</td>\n",
              "      <td>0.0</td>\n",
              "      <td>1.0</td>\n",
              "      <td>0.0</td>\n",
              "      <td>0.0</td>\n",
              "      <td>0.0</td>\n",
              "      <td>0.0</td>\n",
              "      <td>0.0</td>\n",
              "      <td>0.0</td>\n",
              "      <td>0.0</td>\n",
              "      <td>0.0</td>\n",
              "      <td>0.0</td>\n",
              "      <td>0.0</td>\n",
              "      <td>0.0</td>\n",
              "      <td>1.0</td>\n",
              "      <td>0.0</td>\n",
              "      <td>0.0</td>\n",
              "      <td>0.0</td>\n",
              "      <td>0.0</td>\n",
              "      <td>0.0</td>\n",
              "      <td>0.0</td>\n",
              "      <td>0.0</td>\n",
              "      <td>0.0</td>\n",
              "      <td>0.0</td>\n",
              "      <td>1.0</td>\n",
              "      <td>0.0</td>\n",
              "      <td>1.0</td>\n",
              "      <td>0.0</td>\n",
              "      <td>1.0</td>\n",
              "      <td>0.0</td>\n",
              "      <td>0.0</td>\n",
              "      <td>1.0</td>\n",
              "      <td>0.0</td>\n",
              "      <td>0.0</td>\n",
              "      <td>0.0</td>\n",
              "      <td>1.0</td>\n",
              "      <td>0.0</td>\n",
              "      <td>0.0</td>\n",
              "      <td>0.0</td>\n",
              "      <td>0.0</td>\n",
              "      <td>0.0</td>\n",
              "      <td>0.0</td>\n",
              "      <td>1.0</td>\n",
              "      <td>0.0</td>\n",
              "      <td>0.0</td>\n",
              "      <td>0.0</td>\n",
              "      <td>0.0</td>\n",
              "      <td>1.0</td>\n",
              "      <td>0.0</td>\n",
              "      <td>0.0</td>\n",
              "      <td>0.0</td>\n",
              "      <td>0.0</td>\n",
              "      <td>1.0</td>\n",
              "      <td>0.0</td>\n",
              "    </tr>\n",
              "    <tr>\n",
              "      <th>8</th>\n",
              "      <td>no</td>\n",
              "      <td>0.0</td>\n",
              "      <td>0.0</td>\n",
              "      <td>0.0</td>\n",
              "      <td>0.0</td>\n",
              "      <td>0.0</td>\n",
              "      <td>0.0</td>\n",
              "      <td>0.0</td>\n",
              "      <td>0.0</td>\n",
              "      <td>0.0</td>\n",
              "      <td>1.0</td>\n",
              "      <td>0.0</td>\n",
              "      <td>0.0</td>\n",
              "      <td>0.0</td>\n",
              "      <td>0.0</td>\n",
              "      <td>1.0</td>\n",
              "      <td>0.0</td>\n",
              "      <td>0.0</td>\n",
              "      <td>0.0</td>\n",
              "      <td>0.0</td>\n",
              "      <td>0.0</td>\n",
              "      <td>0.0</td>\n",
              "      <td>1.0</td>\n",
              "      <td>0.0</td>\n",
              "      <td>0.0</td>\n",
              "      <td>1.0</td>\n",
              "      <td>0.0</td>\n",
              "      <td>0.0</td>\n",
              "      <td>0.0</td>\n",
              "      <td>0.0</td>\n",
              "      <td>1.0</td>\n",
              "      <td>1.0</td>\n",
              "      <td>0.0</td>\n",
              "      <td>0.0</td>\n",
              "      <td>0.0</td>\n",
              "      <td>1.0</td>\n",
              "      <td>0.0</td>\n",
              "      <td>0.0</td>\n",
              "      <td>0.0</td>\n",
              "      <td>0.0</td>\n",
              "      <td>0.0</td>\n",
              "      <td>0.0</td>\n",
              "      <td>1.0</td>\n",
              "      <td>0.0</td>\n",
              "      <td>0.0</td>\n",
              "      <td>0.0</td>\n",
              "      <td>0.0</td>\n",
              "      <td>1.0</td>\n",
              "      <td>0.0</td>\n",
              "      <td>0.0</td>\n",
              "      <td>0.0</td>\n",
              "      <td>0.0</td>\n",
              "      <td>1.0</td>\n",
              "      <td>0.0</td>\n",
              "    </tr>\n",
              "    <tr>\n",
              "      <th>9</th>\n",
              "      <td>no</td>\n",
              "      <td>0.0</td>\n",
              "      <td>0.0</td>\n",
              "      <td>0.0</td>\n",
              "      <td>0.0</td>\n",
              "      <td>0.0</td>\n",
              "      <td>0.0</td>\n",
              "      <td>0.0</td>\n",
              "      <td>1.0</td>\n",
              "      <td>0.0</td>\n",
              "      <td>0.0</td>\n",
              "      <td>0.0</td>\n",
              "      <td>0.0</td>\n",
              "      <td>0.0</td>\n",
              "      <td>0.0</td>\n",
              "      <td>1.0</td>\n",
              "      <td>0.0</td>\n",
              "      <td>0.0</td>\n",
              "      <td>0.0</td>\n",
              "      <td>0.0</td>\n",
              "      <td>1.0</td>\n",
              "      <td>0.0</td>\n",
              "      <td>0.0</td>\n",
              "      <td>0.0</td>\n",
              "      <td>0.0</td>\n",
              "      <td>1.0</td>\n",
              "      <td>0.0</td>\n",
              "      <td>0.0</td>\n",
              "      <td>0.0</td>\n",
              "      <td>0.0</td>\n",
              "      <td>1.0</td>\n",
              "      <td>1.0</td>\n",
              "      <td>0.0</td>\n",
              "      <td>0.0</td>\n",
              "      <td>0.0</td>\n",
              "      <td>1.0</td>\n",
              "      <td>0.0</td>\n",
              "      <td>0.0</td>\n",
              "      <td>0.0</td>\n",
              "      <td>0.0</td>\n",
              "      <td>0.0</td>\n",
              "      <td>0.0</td>\n",
              "      <td>1.0</td>\n",
              "      <td>0.0</td>\n",
              "      <td>0.0</td>\n",
              "      <td>0.0</td>\n",
              "      <td>0.0</td>\n",
              "      <td>1.0</td>\n",
              "      <td>0.0</td>\n",
              "      <td>0.0</td>\n",
              "      <td>0.0</td>\n",
              "      <td>0.0</td>\n",
              "      <td>1.0</td>\n",
              "      <td>0.0</td>\n",
              "    </tr>\n",
              "  </tbody>\n",
              "</table>\n",
              "</div>"
            ],
            "text/plain": [
              "    y  job_admin.  ...  poutcome_nonexistent  poutcome_success\n",
              "0  no         0.0  ...                   1.0               0.0\n",
              "1  no         0.0  ...                   1.0               0.0\n",
              "2  no         0.0  ...                   1.0               0.0\n",
              "3  no         1.0  ...                   1.0               0.0\n",
              "4  no         0.0  ...                   1.0               0.0\n",
              "5  no         0.0  ...                   1.0               0.0\n",
              "6  no         1.0  ...                   1.0               0.0\n",
              "7  no         0.0  ...                   1.0               0.0\n",
              "8  no         0.0  ...                   1.0               0.0\n",
              "9  no         0.0  ...                   1.0               0.0\n",
              "\n",
              "[10 rows x 54 columns]"
            ]
          },
          "metadata": {
            "tags": []
          },
          "execution_count": 15
        }
      ]
    },
    {
      "cell_type": "code",
      "metadata": {
        "colab": {
          "base_uri": "https://localhost:8080/"
        },
        "id": "hQJcNB0fT8Ct",
        "outputId": "0c09a860-e87c-49c5-cc72-6c5b602a395d"
      },
      "source": [
        "# declare the final datadframe after joining df1 and df2\n",
        "df3 = df2.join(df1)\n",
        "df3.info()"
      ],
      "execution_count": 16,
      "outputs": [
        {
          "output_type": "stream",
          "text": [
            "<class 'pandas.core.frame.DataFrame'>\n",
            "RangeIndex: 41188 entries, 0 to 41187\n",
            "Data columns (total 64 columns):\n",
            " #   Column                         Non-Null Count  Dtype  \n",
            "---  ------                         --------------  -----  \n",
            " 0   y                              41188 non-null  object \n",
            " 1   job_admin.                     41188 non-null  float64\n",
            " 2   job_blue-collar                41188 non-null  float64\n",
            " 3   job_entrepreneur               41188 non-null  float64\n",
            " 4   job_housemaid                  41188 non-null  float64\n",
            " 5   job_management                 41188 non-null  float64\n",
            " 6   job_retired                    41188 non-null  float64\n",
            " 7   job_self-employed              41188 non-null  float64\n",
            " 8   job_services                   41188 non-null  float64\n",
            " 9   job_student                    41188 non-null  float64\n",
            " 10  job_technician                 41188 non-null  float64\n",
            " 11  job_unemployed                 41188 non-null  float64\n",
            " 12  job_unknown                    41188 non-null  float64\n",
            " 13  marital_divorced               41188 non-null  float64\n",
            " 14  marital_married                41188 non-null  float64\n",
            " 15  marital_single                 41188 non-null  float64\n",
            " 16  marital_unknown                41188 non-null  float64\n",
            " 17  education_basic.4y             41188 non-null  float64\n",
            " 18  education_basic.6y             41188 non-null  float64\n",
            " 19  education_basic.9y             41188 non-null  float64\n",
            " 20  education_high.school          41188 non-null  float64\n",
            " 21  education_illiterate           41188 non-null  float64\n",
            " 22  education_professional.course  41188 non-null  float64\n",
            " 23  education_university.degree    41188 non-null  float64\n",
            " 24  education_unknown              41188 non-null  float64\n",
            " 25  default_no                     41188 non-null  float64\n",
            " 26  default_unknown                41188 non-null  float64\n",
            " 27  default_yes                    41188 non-null  float64\n",
            " 28  housing_no                     41188 non-null  float64\n",
            " 29  housing_unknown                41188 non-null  float64\n",
            " 30  housing_yes                    41188 non-null  float64\n",
            " 31  loan_no                        41188 non-null  float64\n",
            " 32  loan_unknown                   41188 non-null  float64\n",
            " 33  loan_yes                       41188 non-null  float64\n",
            " 34  contact_cellular               41188 non-null  float64\n",
            " 35  contact_telephone              41188 non-null  float64\n",
            " 36  month_apr                      41188 non-null  float64\n",
            " 37  month_aug                      41188 non-null  float64\n",
            " 38  month_dec                      41188 non-null  float64\n",
            " 39  month_jul                      41188 non-null  float64\n",
            " 40  month_jun                      41188 non-null  float64\n",
            " 41  month_mar                      41188 non-null  float64\n",
            " 42  month_may                      41188 non-null  float64\n",
            " 43  month_nov                      41188 non-null  float64\n",
            " 44  month_oct                      41188 non-null  float64\n",
            " 45  month_sep                      41188 non-null  float64\n",
            " 46  day_of_week_fri                41188 non-null  float64\n",
            " 47  day_of_week_mon                41188 non-null  float64\n",
            " 48  day_of_week_thu                41188 non-null  float64\n",
            " 49  day_of_week_tue                41188 non-null  float64\n",
            " 50  day_of_week_wed                41188 non-null  float64\n",
            " 51  poutcome_failure               41188 non-null  float64\n",
            " 52  poutcome_nonexistent           41188 non-null  float64\n",
            " 53  poutcome_success               41188 non-null  float64\n",
            " 54  age                            41188 non-null  int64  \n",
            " 55  duration                       41188 non-null  int64  \n",
            " 56  campaign                       41188 non-null  int64  \n",
            " 57  pdays                          41188 non-null  int64  \n",
            " 58  previous                       41188 non-null  int64  \n",
            " 59  emp.var.rate                   41188 non-null  float64\n",
            " 60  cons.price.idx                 41188 non-null  float64\n",
            " 61  cons.conf.idx                  41188 non-null  float64\n",
            " 62  euribor3m                      41188 non-null  float64\n",
            " 63  nr.employed                    41188 non-null  float64\n",
            "dtypes: float64(58), int64(5), object(1)\n",
            "memory usage: 20.1+ MB\n"
          ],
          "name": "stdout"
        }
      ]
    },
    {
      "cell_type": "code",
      "metadata": {
        "id": "y2_nzDBXUbR-"
      },
      "source": [
        "# drop the 'y' column before apply the coding for categorical features\n",
        "df_features = df3.drop('y',axis=1)\n",
        "target = pd.DataFrame(df3['y'], columns=[\"y\"])\n",
        "# apply the coding\n",
        "target['y'] = target['y'].astype('category').cat.codes"
      ],
      "execution_count": 17,
      "outputs": []
    },
    {
      "cell_type": "markdown",
      "metadata": {
        "id": "fHlcc2xoPH6M"
      },
      "source": [
        "#Train-test Split\n",
        "Before continuing with the rest lets split the whole dataset into a training dataset and testing dataset.\n",
        "The feature that we are supposed to predict should also be splitted from the rest of the data set. In our case this will be 'y'."
      ]
    },
    {
      "cell_type": "code",
      "metadata": {
        "id": "UGWsGme2Uri3"
      },
      "source": [
        "# split into train and test datasets\n",
        "x_train, x_test, y_train, y_test = train_test_split(df_features, target, test_size = 0.2, random_state = 100)\n",
        "x_train=x_train.reset_index(drop=True)\n",
        "x_test=x_test.reset_index(drop=True)\n",
        "y_train=y_train.reset_index(drop=True)\n",
        "y_test=y_test.reset_index(drop=True)"
      ],
      "execution_count": 25,
      "outputs": []
    },
    {
      "cell_type": "markdown",
      "metadata": {
        "id": "PdQlExuYO-2t"
      },
      "source": [
        "# Feature Scaling\n",
        "Scaling is done to make mean=0 and standard deviation=1.\n",
        "We should not scale categorical variables."
      ]
    },
    {
      "cell_type": "code",
      "metadata": {
        "id": "9R6E8O1A7xiC"
      },
      "source": [
        "# scaling\n",
        "scaler = StandardScaler()\n",
        "scaler.fit(x_train)\n",
        "x_train_scaled = scaler.transform(x_train)\n",
        "x_test_scaled = scaler.transform(x_test)"
      ],
      "execution_count": 27,
      "outputs": []
    },
    {
      "cell_type": "code",
      "metadata": {
        "colab": {
          "base_uri": "https://localhost:8080/",
          "height": 637
        },
        "id": "Q6E8OTvWU1Jy",
        "outputId": "16339281-50b4-49b1-dab4-2b61f0cc1f67"
      },
      "source": [
        "# draw the correlation matrix\n",
        "correlation_matrix = pd.concat([x_train.iloc[:,55:], y_train], axis=1).corr()\n",
        "sns.heatmap(correlation_matrix)\n",
        "correlation_matrix"
      ],
      "execution_count": 28,
      "outputs": [
        {
          "output_type": "execute_result",
          "data": {
            "text/html": [
              "<div>\n",
              "<style scoped>\n",
              "    .dataframe tbody tr th:only-of-type {\n",
              "        vertical-align: middle;\n",
              "    }\n",
              "\n",
              "    .dataframe tbody tr th {\n",
              "        vertical-align: top;\n",
              "    }\n",
              "\n",
              "    .dataframe thead th {\n",
              "        text-align: right;\n",
              "    }\n",
              "</style>\n",
              "<table border=\"1\" class=\"dataframe\">\n",
              "  <thead>\n",
              "    <tr style=\"text-align: right;\">\n",
              "      <th></th>\n",
              "      <th>campaign</th>\n",
              "      <th>pdays</th>\n",
              "      <th>previous</th>\n",
              "      <th>emp.var.rate</th>\n",
              "      <th>cons.price.idx</th>\n",
              "      <th>cons.conf.idx</th>\n",
              "      <th>euribor3m</th>\n",
              "      <th>nr.employed</th>\n",
              "      <th>y</th>\n",
              "    </tr>\n",
              "  </thead>\n",
              "  <tbody>\n",
              "    <tr>\n",
              "      <th>campaign</th>\n",
              "      <td>1.000000</td>\n",
              "      <td>0.054911</td>\n",
              "      <td>-0.079952</td>\n",
              "      <td>0.151579</td>\n",
              "      <td>0.129611</td>\n",
              "      <td>-0.012803</td>\n",
              "      <td>0.135518</td>\n",
              "      <td>0.144108</td>\n",
              "      <td>-0.068265</td>\n",
              "    </tr>\n",
              "    <tr>\n",
              "      <th>pdays</th>\n",
              "      <td>0.054911</td>\n",
              "      <td>1.000000</td>\n",
              "      <td>-0.588395</td>\n",
              "      <td>0.273411</td>\n",
              "      <td>0.082837</td>\n",
              "      <td>-0.090080</td>\n",
              "      <td>0.298664</td>\n",
              "      <td>0.372366</td>\n",
              "      <td>-0.325500</td>\n",
              "    </tr>\n",
              "    <tr>\n",
              "      <th>previous</th>\n",
              "      <td>-0.079952</td>\n",
              "      <td>-0.588395</td>\n",
              "      <td>1.000000</td>\n",
              "      <td>-0.421555</td>\n",
              "      <td>-0.201621</td>\n",
              "      <td>-0.053945</td>\n",
              "      <td>-0.456222</td>\n",
              "      <td>-0.503021</td>\n",
              "      <td>0.233819</td>\n",
              "    </tr>\n",
              "    <tr>\n",
              "      <th>emp.var.rate</th>\n",
              "      <td>0.151579</td>\n",
              "      <td>0.273411</td>\n",
              "      <td>-0.421555</td>\n",
              "      <td>1.000000</td>\n",
              "      <td>0.774387</td>\n",
              "      <td>0.200666</td>\n",
              "      <td>0.972175</td>\n",
              "      <td>0.906536</td>\n",
              "      <td>-0.304397</td>\n",
              "    </tr>\n",
              "    <tr>\n",
              "      <th>cons.price.idx</th>\n",
              "      <td>0.129611</td>\n",
              "      <td>0.082837</td>\n",
              "      <td>-0.201621</td>\n",
              "      <td>0.774387</td>\n",
              "      <td>1.000000</td>\n",
              "      <td>0.064422</td>\n",
              "      <td>0.686706</td>\n",
              "      <td>0.519393</td>\n",
              "      <td>-0.140847</td>\n",
              "    </tr>\n",
              "    <tr>\n",
              "      <th>cons.conf.idx</th>\n",
              "      <td>-0.012803</td>\n",
              "      <td>-0.090080</td>\n",
              "      <td>-0.053945</td>\n",
              "      <td>0.200666</td>\n",
              "      <td>0.064422</td>\n",
              "      <td>1.000000</td>\n",
              "      <td>0.281674</td>\n",
              "      <td>0.104406</td>\n",
              "      <td>0.054015</td>\n",
              "    </tr>\n",
              "    <tr>\n",
              "      <th>euribor3m</th>\n",
              "      <td>0.135518</td>\n",
              "      <td>0.298664</td>\n",
              "      <td>-0.456222</td>\n",
              "      <td>0.972175</td>\n",
              "      <td>0.686706</td>\n",
              "      <td>0.281674</td>\n",
              "      <td>1.000000</td>\n",
              "      <td>0.945049</td>\n",
              "      <td>-0.312671</td>\n",
              "    </tr>\n",
              "    <tr>\n",
              "      <th>nr.employed</th>\n",
              "      <td>0.144108</td>\n",
              "      <td>0.372366</td>\n",
              "      <td>-0.503021</td>\n",
              "      <td>0.906536</td>\n",
              "      <td>0.519393</td>\n",
              "      <td>0.104406</td>\n",
              "      <td>0.945049</td>\n",
              "      <td>1.000000</td>\n",
              "      <td>-0.358646</td>\n",
              "    </tr>\n",
              "    <tr>\n",
              "      <th>y</th>\n",
              "      <td>-0.068265</td>\n",
              "      <td>-0.325500</td>\n",
              "      <td>0.233819</td>\n",
              "      <td>-0.304397</td>\n",
              "      <td>-0.140847</td>\n",
              "      <td>0.054015</td>\n",
              "      <td>-0.312671</td>\n",
              "      <td>-0.358646</td>\n",
              "      <td>1.000000</td>\n",
              "    </tr>\n",
              "  </tbody>\n",
              "</table>\n",
              "</div>"
            ],
            "text/plain": [
              "                campaign     pdays  previous  ...  euribor3m  nr.employed         y\n",
              "campaign        1.000000  0.054911 -0.079952  ...   0.135518     0.144108 -0.068265\n",
              "pdays           0.054911  1.000000 -0.588395  ...   0.298664     0.372366 -0.325500\n",
              "previous       -0.079952 -0.588395  1.000000  ...  -0.456222    -0.503021  0.233819\n",
              "emp.var.rate    0.151579  0.273411 -0.421555  ...   0.972175     0.906536 -0.304397\n",
              "cons.price.idx  0.129611  0.082837 -0.201621  ...   0.686706     0.519393 -0.140847\n",
              "cons.conf.idx  -0.012803 -0.090080 -0.053945  ...   0.281674     0.104406  0.054015\n",
              "euribor3m       0.135518  0.298664 -0.456222  ...   1.000000     0.945049 -0.312671\n",
              "nr.employed     0.144108  0.372366 -0.503021  ...   0.945049     1.000000 -0.358646\n",
              "y              -0.068265 -0.325500  0.233819  ...  -0.312671    -0.358646  1.000000\n",
              "\n",
              "[9 rows x 9 columns]"
            ]
          },
          "metadata": {
            "tags": []
          },
          "execution_count": 28
        },
        {
          "output_type": "display_data",
          "data": {
            "image/png": "[encoded data removed]",
            "text/plain": [
              "<Figure size 432x288 with 2 Axes>"
            ]
          },
          "metadata": {
            "tags": [],
            "needs_background": "light"
          }
        }
      ]
    },
    {
      "cell_type": "code",
      "metadata": {
        "id": "j3mXT7QF_MyE"
      },
      "source": [
        "df_features = df_features.drop('euribor3m', 1) #delete "
      ],
      "execution_count": null,
      "outputs": []
    },
    {
      "cell_type": "markdown",
      "metadata": {
        "id": "x3QWD2RkPVqE"
      },
      "source": [
        "# Dimensionality reduction\n",
        "For dimentionality reduction Principal Component Analysis (PCA) or Singular\n",
        "Value Decomposition (SVD) can be used.\n",
        "Here I have used PCA.\n",
        "PCA projects the dimensions in a dataset to a eigen vector space. \n",
        "Then we can get the variance ratio to decide which features are to be dropped."
      ]
    },
    {
      "cell_type": "code",
      "metadata": {
        "colab": {
          "base_uri": "https://localhost:8080/"
        },
        "id": "_qfzsLLCYUQB",
        "outputId": "50c06238-4909-4b50-a2e8-408a67663c46"
      },
      "source": [
        "# apply the PCA for feature for feature reduction\n",
        "pca = PCA()\n",
        "pca.fit(x_train)\n",
        "pca.explained_variance_ratio_"
      ],
      "execution_count": null,
      "outputs": [
        {
          "output_type": "execute_result",
          "data": {
            "text/plain": [
              "array([6.30026112e-01, 3.28222694e-01, 4.04290990e-02, 1.01009302e-03,\n",
              "       1.87603551e-04, 6.85675736e-05, 7.59728057e-06, 4.42675998e-06,\n",
              "       4.05229653e-06, 3.18606326e-06, 2.88239889e-06, 2.57080239e-06,\n",
              "       2.44670621e-06, 2.38896713e-06, 2.32366053e-06, 2.06012601e-06,\n",
              "       1.96365590e-06, 1.90459764e-06, 1.81368368e-06, 1.80521593e-06,\n",
              "       1.74169147e-06, 1.30760860e-06, 1.22939340e-06, 1.14229791e-06,\n",
              "       1.06299874e-06, 8.39144368e-07, 7.47318274e-07, 6.78142811e-07,\n",
              "       6.30896713e-07, 6.07230872e-07, 5.99976641e-07, 4.96406599e-07,\n",
              "       4.32378979e-07, 4.12119572e-07, 3.91011443e-07, 3.18174808e-07,\n",
              "       2.98159359e-07, 2.42384419e-07, 2.22460791e-07, 2.18860042e-07,\n",
              "       1.71651512e-07, 1.54751662e-07, 1.42351972e-07, 1.12096436e-07,\n",
              "       7.45321788e-08, 4.34756380e-08, 4.15900070e-08, 2.46910719e-08,\n",
              "       1.96460462e-08, 4.77267287e-09, 8.36161803e-10, 3.34788991e-33,\n",
              "       3.34788991e-33, 3.34788991e-33, 3.34788991e-33, 3.34788991e-33,\n",
              "       3.34788991e-33, 3.34788991e-33, 3.34788991e-33, 3.34788991e-33,\n",
              "       3.34788991e-33, 6.04637941e-36])"
            ]
          },
          "metadata": {
            "tags": []
          },
          "execution_count": 32
        }
      ]
    },
    {
      "cell_type": "code",
      "metadata": {
        "id": "xiNBMpP3YaRU"
      },
      "source": [
        "pca = PCA(n_components=4)\n",
        "pca.fit(x_train)\n",
        "x_train_pca = pca.transform(x_train)\n",
        "x_test_pca = pca.transform(x_test)"
      ],
      "execution_count": 29,
      "outputs": []
    },
    {
      "cell_type": "code",
      "metadata": {
        "colab": {
          "base_uri": "https://localhost:8080/"
        },
        "id": "3y_s5xHnYeLa",
        "outputId": "0842314f-5b1c-4564-f362-94fa8af7bf2e"
      },
      "source": [
        "import numpy as np\n",
        "import matplotlib.pyplot as plt\n",
        "from sklearn import svm\n",
        "svc = svm.SVC(kernel='rbf', C=1.2, gamma=0.5).fit(x_train_pca, y_train)"
      ],
      "execution_count": 34,
      "outputs": [
        {
          "output_type": "stream",
          "text": [
            "/usr/local/lib/python3.7/dist-packages/sklearn/utils/validation.py:760: DataConversionWarning: A column-vector y was passed when a 1d array was expected. Please change the shape of y to (n_samples, ), for example using ravel().\n",
            "  y = column_or_1d(y, warn=True)\n"
          ],
          "name": "stderr"
        }
      ]
    },
    {
      "cell_type": "code",
      "metadata": {
        "id": "I-yBnCGYpWTG",
        "colab": {
          "base_uri": "https://localhost:8080/"
        },
        "outputId": "5aabefda-4751-4f47-dfdb-91fc4f4b685a"
      },
      "source": [
        "predictions = svc.predict(x_test_pca)\n",
        "y_hat = pd.DataFrame(predictions, columns=[\"predicted\"])\n",
        "print(y_hat.head(10)) "
      ],
      "execution_count": 35,
      "outputs": [
        {
          "output_type": "stream",
          "text": [
            "   predicted\n",
            "0          0\n",
            "1          0\n",
            "2          0\n",
            "3          0\n",
            "4          0\n",
            "5          0\n",
            "6          0\n",
            "7          0\n",
            "8          0\n",
            "9          0\n"
          ],
          "name": "stdout"
        }
      ]
    },
    {
      "cell_type": "code",
      "metadata": {
        "colab": {
          "base_uri": "https://localhost:8080/"
        },
        "id": "HPIeiczDpalP",
        "outputId": "00af3ca2-15bb-4879-d4b0-f323da1e45db"
      },
      "source": [
        "from sklearn.metrics import accuracy_score \n",
        "print('SVM accuracy score for test: %.3f' % (\n",
        "        accuracy_score(y_test, y_hat)))"
      ],
      "execution_count": 36,
      "outputs": [
        {
          "output_type": "stream",
          "text": [
            "SVM accuracy score for test: 0.889\n"
          ],
          "name": "stdout"
        }
      ]
    },
    {
      "cell_type": "code",
      "metadata": {
        "id": "XFuCIEJdYjUJ",
        "colab": {
          "base_uri": "https://localhost:8080/",
          "height": 265
        },
        "outputId": "62a30692-21ba-4973-a4ee-169dcb768cbb"
      },
      "source": [
        "# draw the confusion matrix\n",
        "cnf_matrix = confusion_matrix(y_test, predictions)\n",
        "fig, ax = plt.subplots(1)\n",
        "ax = sns.heatmap(cnf_matrix, ax=ax, cmap=plt.cm.Blues, annot=True)\n",
        "plt.show()"
      ],
      "execution_count": 33,
      "outputs": [
        {
          "output_type": "display_data",
          "data": {
            "image/png": "[encoded data removed]",
            "text/plain": [
              "<Figure size 432x288 with 2 Axes>"
            ]
          },
          "metadata": {
            "tags": [],
            "needs_background": "light"
          }
        }
      ]
    }
  ]
}